{
 "cells": [
  {
   "cell_type": "markdown",
   "metadata": {},
   "source": [
    "<br>\n",
    "\n",
    "# Tabula\n",
    "\n",
    "Obtenção de dados pelo Tabula\n",
    "\n",
    "<br>\n",
    "\n",
    "Michel Metran\\\n",
    "Data: ?\\\n",
    "Atualizado em: 21.03.2024"
   ]
  },
  {
   "cell_type": "code",
   "execution_count": null,
   "metadata": {},
   "outputs": [],
   "source": [
    "#!pip3 install pdfplumber --upgrade\n",
    "#!pip3 install tabula --upgrade\n",
    "#!pip3 install tabula-py --upgrade\n",
    "#!pip3 install geopandas --upgrade\n",
    "#!pip3 install jpype1 --upgrade"
   ]
  },
  {
   "cell_type": "code",
   "execution_count": null,
   "metadata": {},
   "outputs": [],
   "source": [
    "import pandas as pd\n",
    "import tabula\n",
    "from get_data import file\n",
    "from paths import output_path"
   ]
  },
  {
   "cell_type": "markdown",
   "metadata": {},
   "source": [
    "<br>\n",
    "\n",
    "## Convert PDF to Table\n"
   ]
  },
  {
   "cell_type": "code",
   "execution_count": null,
   "metadata": {},
   "outputs": [],
   "source": [
    "# Convert PDF into CSV\n",
    "tabula.convert_into(\n",
    "    file,\n",
    "    (output_path / 'tabula.csv').as_posix(),\n",
    "    output_format='csv',\n",
    "    pages='all',\n",
    ")"
   ]
  },
  {
   "cell_type": "markdown",
   "metadata": {},
   "source": [
    "<br>\n",
    "\n",
    "## Segunda Tentativa\n"
   ]
  },
  {
   "cell_type": "code",
   "execution_count": null,
   "metadata": {},
   "outputs": [],
   "source": [
    "df = tabula.read_pdf(file, pages='all')\n",
    "\n",
    "list_content_pages = []\n",
    "for dataframe in range(0, len(df)):\n",
    "    # Coluna com dados\n",
    "    col = 'MUNICÍPIO\\r(em ordem alfabética)'\n",
    "\n",
    "    # print(list(df[dataframe].columns))\n",
    "\n",
    "    # Se tem a columa com os dados, leia\n",
    "    if col in df[dataframe].columns:\n",
    "        text = df[dataframe][col].values\n",
    "\n",
    "        # Convert to List\n",
    "        text = text.tolist()\n",
    "\n",
    "        for i in range(len(text)):\n",
    "            # Get Text\n",
    "            mun = text[i].split('\\r')\n",
    "\n",
    "            # Extend\n",
    "            list_content_pages.extend(mun)"
   ]
  },
  {
   "cell_type": "code",
   "execution_count": null,
   "metadata": {},
   "outputs": [],
   "source": [
    "# Read Data\n",
    "df = pd.DataFrame(list_content_pages, columns=['Municípios'])\n",
    "\n",
    "# Salva\n",
    "df.to_csv(path_or_buf=output_path / 'tabula.csv', index=False)\n",
    "\n",
    "# Results\n",
    "df.info()\n",
    "df.head()"
   ]
  },
  {
   "cell_type": "code",
   "execution_count": null,
   "metadata": {},
   "outputs": [],
   "source": []
  }
 ],
 "metadata": {
  "kernelspec": {
   "display_name": "Python 3 (ipykernel)",
   "language": "python",
   "name": "python3"
  },
  "language_info": {
   "codemirror_mode": {
    "name": "ipython",
    "version": 3
   },
   "file_extension": ".py",
   "mimetype": "text/x-python",
   "name": "python",
   "nbconvert_exporter": "python",
   "pygments_lexer": "ipython3",
   "version": "3.10.13"
  },
  "toc-autonumbering": true
 },
 "nbformat": 4,
 "nbformat_minor": 4
}
