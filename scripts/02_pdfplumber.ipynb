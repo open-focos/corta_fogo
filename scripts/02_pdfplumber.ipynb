{
 "cells": [
  {
   "cell_type": "markdown",
   "metadata": {},
   "source": [
    "<br>\n",
    "\n",
    "# PDF Plumber\n",
    "\n",
    "Obtenção de dados pelo PDF Plumber\n",
    "\n",
    "<br>\n",
    "\n",
    "Michel Metran\\\n",
    "Data: ?\\\n",
    "Atualizado em: 21.03.2024\n"
   ]
  },
  {
   "cell_type": "code",
   "execution_count": null,
   "metadata": {},
   "outputs": [],
   "source": [
    "import pandas as pd\n",
    "import pdfplumber\n",
    "from get_data import file\n",
    "from paths import output_path"
   ]
  },
  {
   "cell_type": "code",
   "execution_count": null,
   "metadata": {},
   "outputs": [],
   "source": [
    "# Cortas PDF\n",
    "list_content_pages = []\n",
    "with pdfplumber.open(file) as pdf:\n",
    "\n",
    "    for page in pdf.pages:\n",
    "        print(f'>> {page}')\n",
    "\n",
    "        # Obtem texto\n",
    "        text = page.extract_text(x_tolerance=1)\n",
    "        text = text.split('\\n')\n",
    "\n",
    "        # Retira as primeiras quatro linhas de cada página\n",
    "        text = text[4:]\n",
    "\n",
    "        # Retira as últimas três linhas de cada página\n",
    "        text = text[:-3]\n",
    "\n",
    "        # Results\n",
    "        print(text)\n",
    "        list_content_pages.extend(text)"
   ]
  },
  {
   "cell_type": "code",
   "execution_count": null,
   "metadata": {},
   "outputs": [],
   "source": [
    "# Read Data\n",
    "df = pd.DataFrame(list_content_pages, columns=['Municípios'])\n",
    "\n",
    "# Split\n",
    "df[['Id', 'Municípios']] = df['Municípios'].str.split(' ', n=1, expand=True)\n",
    "\n",
    "# Reorder\n",
    "df = df[['Id', 'Municípios']].copy()\n",
    "\n",
    "# Salva\n",
    "df.to_csv(path_or_buf=output_path / 'pdfplumber.csv', index=False)\n",
    "\n",
    "# Results\n",
    "df.info()\n",
    "df.head()"
   ]
  },
  {
   "cell_type": "code",
   "execution_count": null,
   "metadata": {},
   "outputs": [],
   "source": []
  }
 ],
 "metadata": {
  "kernelspec": {
   "display_name": "pablocarreira-lastest",
   "language": "python",
   "name": "python3"
  },
  "language_info": {
   "codemirror_mode": {
    "name": "ipython",
    "version": 3
   },
   "file_extension": ".py",
   "mimetype": "text/x-python",
   "name": "python",
   "nbconvert_exporter": "python",
   "pygments_lexer": "ipython3",
   "version": "3.10.13"
  }
 },
 "nbformat": 4,
 "nbformat_minor": 2
}
